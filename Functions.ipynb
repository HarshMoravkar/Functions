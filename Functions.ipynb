{
  "nbformat": 4,
  "nbformat_minor": 0,
  "metadata": {
    "colab": {
      "provenance": []
    },
    "kernelspec": {
      "name": "python3",
      "display_name": "Python 3"
    },
    "language_info": {
      "name": "python"
    }
  },
  "cells": [
    {
      "cell_type": "markdown",
      "source": [
        "# **Functions**"
      ],
      "metadata": {
        "id": "jlo7m2Fv_bOi"
      }
    },
    {
      "cell_type": "code",
      "execution_count": null,
      "metadata": {
        "id": "DUxc0wic2M0q"
      },
      "outputs": [],
      "source": []
    },
    {
      "cell_type": "markdown",
      "source": [
        "1.What is Python, and why is it popular?\n",
        "\n",
        "  -Python is a high-level, interpreted programming language known for its readability and simplicity.\n",
        "  It's popular because of its versatility, ease of learning, large community support, and wide range of applications—from web development to data science,\n",
        "  automation, and machine learning. Its extensive libraries and frameworks also make development faster and more efficient.\n",
        "\n",
        "2.What is an interpreter in Python?\n",
        "\n",
        "  -An interpreter in Python is a program that translates and executes Python source code directly, without the need for a separate compilation step. It reads the code line-by-line, converts it into an intermediate representation called bytecode, and then executes it.\n",
        "\n",
        "3.What are pre-defined keywords in Python?\n",
        "\n",
        "  -In Python, keywords are reserved words that have a specific meaning and are integral to the syntax of the language. These keywords cannot be used as identifiers, variable names, function names, class names, etc.\n",
        "  \n",
        "  Keywords that are predefined in Python:True,false,ass,and,from,global,not,else,import,break,class,def,try etc.\n",
        "\n",
        "4.Can keywords be used as variable names?\n",
        "\n",
        "\n",
        "  -You cannot use keywords as variable names in Python. They are reserved for the syntax and operations of the language itself. If you attempt to use a keyword as a variable name, it will result in a syntax error. To avoid this, always choose valid, non-keyword names for your variables.\n",
        "\n",
        "5.What is mutability in Python?\n",
        "\n",
        "  -Mutability in Python refers to the ability of an object to be modified after it is created. Python objects can be categorized into two types: mutable and immutable.\n",
        "\n",
        "  Mutable Objects: These are objects whose state or value can be changed after their creation. Examples of mutable objects include lists, dictionaries, and sets.\n",
        "\n",
        "  Immutable Objects: These are objects whose state or value cannot be changed once they are created. Examples of immutable objects include strings, tuples, integers, and floats.\n",
        "\n",
        "6.Why are lists mutable, but tuples are immutable?\n",
        "\n",
        "  -In Python, both lists and tuples are used to store collections of items. However, they differ in terms of mutability—lists are mutable, meaning their contents can be changed, while tuples are immutable, meaning their contents cannot be modified once created. This distinction exists due to design choices in the language, which aim to optimize performance, flexibility, and safety in different use cases.\n",
        "\n",
        "7.What is the difference between “==” and “is” operators in Python?\n",
        "\n",
        "  -\tIn Python, both == and is are comparison operators, but they are used for different purposes.\n",
        "\n",
        "  1. == Operator (Equality Operator):\n",
        "  The == operator is used to compare the values of two objects.\n",
        "  It returns True if the values of the objects are equal, regardless of whether they are the same object in memory.\n",
        "  2. is Operator (Identity Operator):\n",
        "  The is operator is used to compare the identity of two objects.\n",
        "  It returns True if both variables point to the same object in memory.\n",
        "\n",
        "8.What are logical operators in Python?\n",
        "\n",
        "  -Logical operators are used to perform logical operations on Boolean expressions. They are primarily used in decision-making statements like if, while, and loops, where conditions need to be evaluated as True or False.\n",
        "  Types of Logical Operators:\n",
        "  Logical AND(and):\tReturns True if both operands are True\n",
        "  Logical OR(or) :\tReturns True if at least one operand is True\n",
        "  Logical NOT(not): Returns the opposite of the Boolean value of the operand.\n",
        "\n",
        "9.What is type casting in Python?\n",
        "\n",
        "  -Type casting refers to the process of converting the data type of a variable or value into another data type. It is also known as type conversion.\n",
        "  Python supports both implicit and explicit type casting.\n",
        "  1. Implicit Type Casting\n",
        "  Performed automatically by Python.\n",
        "  Happens when converting a smaller data type to a larger data type to avoid data loss.\n",
        "  No need for manual intervention.\n",
        "  2. Explicit Type Casting\n",
        "  Done manually by the programmer using built-in Python functions.\n",
        "  Useful when you need to force a data type conversion.\n",
        "\n",
        "10.What is the difference between implicit and explicit type casting?\n",
        "\n",
        "  -Implicit Type Casting:\n",
        "  Implicit type casting is the process where Python automatically converts one data type to another during an operation without any intervention from the programmer. This usually occurs when a lower data type like int is used in an operation with a higher data type like float, and Python converts the result to the higher type to preserve information.\n",
        "\n",
        "  Explicit Type Casting:\n",
        "  Explicit type casting is the process where the programmer manually converts one data type into another using built-in functions. This is necessary when Python cannot automatically perform the conversion or when a specific data type is required for an operation.\n",
        "\n",
        "11.What is the purpose of conditional statements in Python?\n",
        "\n",
        "  -Conditional statements are fundamental constructs in Python that enable a    program to make decisions based on certain conditions. They control the flow of execution by allowing the program to choose different paths depending on whether a condition evaluates to True or False.\n",
        "\n",
        "12.How does the elif statement work?\n",
        "\n",
        "  -The elif statement in Python is used as part of conditional control structures to evaluate multiple conditions sequentially. It stands for \"else if\" and provides an efficient way to test several conditions in a clear and readable manner.\n",
        "\n",
        "13.What is the difference between for and while loops?\n",
        "\n",
        "  -Both for and while loops are used to repeat a block of code multiple times, but they differ in how and when the repetition occurs.\n",
        "\n",
        "  for Loop:\n",
        "  Used to iterate over a sequence (such as a list, tuple, string, or range).\n",
        "  The number of iterations is usually known beforehand or defined by the sequence.\n",
        "  Executes the loop body once for each item in the sequence.\n",
        "\n",
        "  while Loop:\n",
        "  Used to execute a block of code repeatedly as long as a condition is true.\n",
        "  The number of iterations may be unknown and depends on the condition.\n",
        "  The condition is checked before each iteration.\n",
        "\n",
        "14.Describe a scenario where a while loop is more suitable than a for loop?\n",
        "\n",
        "  -A while loop is more appropriate when the number of times the loop should run is not known beforehand and depends on a condition that changes during execution.\n",
        "\n",
        "  Example Scenario: User Input Validation\n",
        "  Imagine you are creating a program that asks the user to guess a secret number. The program should keep asking the user to enter a guess until they guess correctly. Since you don't know how many attempts the user will need, a while loop is the best choice.\n",
        "\n",
        "\n"
      ],
      "metadata": {
        "id": "Enz8Fby32NoH"
      }
    },
    {
      "cell_type": "markdown",
      "source": [
        "**Pratical Questions**"
      ],
      "metadata": {
        "id": "wGYwvAkk_MeI"
      }
    },
    {
      "cell_type": "code",
      "source": [
        "#Write a Python program to print \"Hello, World!\n",
        "print(\"Hello, World!\")"
      ],
      "metadata": {
        "colab": {
          "base_uri": "https://localhost:8080/"
        },
        "id": "sX4Z3OLh4NsC",
        "outputId": "538fa8cb-8b8e-4a39-adb8-c7b2481cb17c"
      },
      "execution_count": 3,
      "outputs": [
        {
          "output_type": "stream",
          "name": "stdout",
          "text": [
            "Hello, World!\n"
          ]
        }
      ]
    },
    {
      "cell_type": "code",
      "source": [
        "#Write a Python program that displays your name and age\n",
        "name = \"Harsh Moravkar\"\n",
        "age = 23\n",
        "\n",
        "print(\"My name is\", name)\n",
        "print(\"I am\", age, \"years old.\")"
      ],
      "metadata": {
        "colab": {
          "base_uri": "https://localhost:8080/"
        },
        "id": "E-P9Mzyy42Qm",
        "outputId": "e1171951-e567-41c6-cc94-0f1f1243b7c7"
      },
      "execution_count": 4,
      "outputs": [
        {
          "output_type": "stream",
          "name": "stdout",
          "text": [
            "My name is Harsh Moravkar\n",
            "I am 23 years old.\n"
          ]
        }
      ]
    },
    {
      "cell_type": "code",
      "source": [
        "#Write code to print all the pre-defined keywords in Python using the keyword library\n",
        "import keyword\n",
        "keywords_list = keyword.kwlist\n",
        "\n",
        "print(\"Python Keywords:\")\n",
        "for kw in keywords_list:\n",
        "    print(kw)"
      ],
      "metadata": {
        "colab": {
          "base_uri": "https://localhost:8080/"
        },
        "id": "6udF_Fst5RRn",
        "outputId": "09759628-f809-4a70-f3bf-246942d7ccd2"
      },
      "execution_count": 5,
      "outputs": [
        {
          "output_type": "stream",
          "name": "stdout",
          "text": [
            "Python Keywords:\n",
            "False\n",
            "None\n",
            "True\n",
            "and\n",
            "as\n",
            "assert\n",
            "async\n",
            "await\n",
            "break\n",
            "class\n",
            "continue\n",
            "def\n",
            "del\n",
            "elif\n",
            "else\n",
            "except\n",
            "finally\n",
            "for\n",
            "from\n",
            "global\n",
            "if\n",
            "import\n",
            "in\n",
            "is\n",
            "lambda\n",
            "nonlocal\n",
            "not\n",
            "or\n",
            "pass\n",
            "raise\n",
            "return\n",
            "try\n",
            "while\n",
            "with\n",
            "yield\n"
          ]
        }
      ]
    },
    {
      "cell_type": "code",
      "source": [
        "#Write a program that checks if a given word is a Python keyword.\n",
        "import keyword\n",
        "word = input(\"Enter a word: \")\n",
        "if keyword.iskeyword(word):\n",
        "    print(f\"'{word}' is a Python keyword.\")\n",
        "else:\n",
        "    print(f\"'{word}' is NOT a Python keyword.\")"
      ],
      "metadata": {
        "colab": {
          "base_uri": "https://localhost:8080/"
        },
        "id": "oDhE1vQF5xFq",
        "outputId": "667a26dd-1fbc-4b81-84e6-b0f008461820"
      },
      "execution_count": 9,
      "outputs": [
        {
          "output_type": "stream",
          "name": "stdout",
          "text": [
            "Enter a word: def\n",
            "'def' is a Python keyword.\n"
          ]
        }
      ]
    },
    {
      "cell_type": "code",
      "source": [
        "# Create a list and tuple in Python, and demonstrate how attempting to change an element works differently for each.\n",
        "my_list = [10, 20, 30]\n",
        "my_tuple = (10, 20, 30)\n",
        "print(\"Original List:\", my_list)\n",
        "my_list[1] = 99\n",
        "print(\"Modified List:\", my_list)\n",
        "print(\"\\nOriginal Tuple:\", my_tuple)\n",
        "try:\n",
        "    my_tuple[1] = 99\n",
        "except TypeError as e:\n",
        "    print(\"Error:\", e)"
      ],
      "metadata": {
        "colab": {
          "base_uri": "https://localhost:8080/"
        },
        "id": "GYwv34RP6xaX",
        "outputId": "7346d011-c2e1-4854-91c4-c199dbff2946"
      },
      "execution_count": 10,
      "outputs": [
        {
          "output_type": "stream",
          "name": "stdout",
          "text": [
            "Original List: [10, 20, 30]\n",
            "Modified List: [10, 99, 30]\n",
            "\n",
            "Original Tuple: (10, 20, 30)\n",
            "Error: 'tuple' object does not support item assignment\n"
          ]
        }
      ]
    },
    {
      "cell_type": "code",
      "source": [
        "#Write a function to demonstrate the behavior of mutable and immutable arguments.\n",
        "def modify_values(num, num_list):\n",
        "    print(\"\\nInside the function:\")\n",
        "    num += 10\n",
        "    num_list.append(100)\n",
        "    print(\"Modified num (int):\", num)\n",
        "    print(\"Modified num_list (list):\", num_list)\n",
        "\n",
        "number = 50\n",
        "numbers = [1, 2, 3]\n",
        "\n",
        "print(\"Before function call:\")\n",
        "print(\"number =\", number)\n",
        "print(\"numbers =\", numbers)\n",
        "\n",
        "modify_values(number, numbers)\n",
        "\n",
        "print(\"\\nAfter function call:\")\n",
        "print(\"number =\", number)\n",
        "print(\"numbers =\", numbers)\n"
      ],
      "metadata": {
        "colab": {
          "base_uri": "https://localhost:8080/"
        },
        "id": "V-S5Csk77OoR",
        "outputId": "52ecec26-84ab-4680-ae72-bed8d2fb3030"
      },
      "execution_count": 11,
      "outputs": [
        {
          "output_type": "stream",
          "name": "stdout",
          "text": [
            "Before function call:\n",
            "number = 50\n",
            "numbers = [1, 2, 3]\n",
            "\n",
            "Inside the function:\n",
            "Modified num (int): 60\n",
            "Modified num_list (list): [1, 2, 3, 100]\n",
            "\n",
            "After function call:\n",
            "number = 50\n",
            "numbers = [1, 2, 3, 100]\n"
          ]
        }
      ]
    },
    {
      "cell_type": "code",
      "source": [
        "#Write a program that performs basic arithmetic operations on two user-input numbers.\n",
        "num1 = float(input(\"Enter the first number: \"))\n",
        "num2 = float(input(\"Enter the second number: \"))\n",
        "\n",
        "addition = num1 + num2\n",
        "subtraction = num1 - num2\n",
        "multiplication = num1 * num2\n",
        "\n",
        "if num2 != 0:\n",
        "    division = num1 / num2\n",
        "else:\n",
        "    division = \"Undefined (cannot divide by zero)\"\n",
        "\n",
        "print(\"\\nResults:\")\n",
        "print(\"Addition:\", addition)\n",
        "print(\"Subtraction:\", subtraction)\n",
        "print(\"Multiplication:\", multiplication)\n",
        "print(\"Division:\", division)\n"
      ],
      "metadata": {
        "colab": {
          "base_uri": "https://localhost:8080/"
        },
        "id": "m6ZGju4d7v-D",
        "outputId": "9f454226-3a83-48e9-88dc-bf4c5a8a55da"
      },
      "execution_count": 16,
      "outputs": [
        {
          "output_type": "stream",
          "name": "stdout",
          "text": [
            "Enter the first number: 20\n",
            "Enter the second number: 5\n",
            "\n",
            "Results:\n",
            "Addition: 25.0\n",
            "Subtraction: 15.0\n",
            "Multiplication: 100.0\n",
            "Division: 4.0\n"
          ]
        }
      ]
    },
    {
      "cell_type": "code",
      "source": [
        "#Write a program to demonstrate the use of logical operators.\n",
        "age = int(input(\"Enter your age: \"))\n",
        "has_id = input(\"Do you have a valid ID? (yes/no): \").strip().lower()\n",
        "\n",
        "if age >= 18 and has_id == \"yes\":\n",
        "    print(\"\\nYou are eligible to enter.\")\n",
        "\n",
        "elif age >= 18 or has_id == \"yes\":\n",
        "    print(\"\\nYou might be eligible, but further verification is required.\")\n",
        "\n",
        "else:\n",
        "    if not (age >= 18):\n",
        "        print(\"\\nAccess denied: You are underage.\")\n",
        "    if not (has_id == \"yes\"):\n",
        "        print(\"Access denied: ID is required.\")\n"
      ],
      "metadata": {
        "colab": {
          "base_uri": "https://localhost:8080/"
        },
        "id": "fmr--p3Q8ej6",
        "outputId": "2c3c2f7c-f44c-447e-ea8d-00fb30b4dfaf"
      },
      "execution_count": 17,
      "outputs": [
        {
          "output_type": "stream",
          "name": "stdout",
          "text": [
            "Enter your age: 23\n",
            "Do you have a valid ID? (yes/no): yes\n",
            "\n",
            "You are eligible to enter.\n"
          ]
        }
      ]
    },
    {
      "cell_type": "code",
      "source": [
        "#Write a Python program to convert user input from string to integer, float, and boolean types.\n",
        "user_input = input(\"Enter a value: \")\n",
        "\n",
        "try:\n",
        "    int_value = int(user_input)\n",
        "    print(\"Integer conversion:\", int_value)\n",
        "except ValueError:\n",
        "    print(\"Cannot convert to integer.\")\n",
        "\n",
        "try:\n",
        "    float_value = float(user_input)\n",
        "    print(\"Float conversion:\", float_value)\n",
        "except ValueError:\n",
        "    print(\"Cannot convert to float.\")\n",
        "\n",
        "true_values = ['true', '1', 'yes', 'y', 't']\n",
        "bool_value = user_input.strip().lower() in true_values\n",
        "print(\"Boolean conversion:\", bool_value)\n"
      ],
      "metadata": {
        "colab": {
          "base_uri": "https://localhost:8080/"
        },
        "id": "q4ty_KBw88YU",
        "outputId": "5a7d25e0-a009-423e-8859-d0806d48b9a7"
      },
      "execution_count": 18,
      "outputs": [
        {
          "output_type": "stream",
          "name": "stdout",
          "text": [
            "Enter a value: 32\n",
            "Integer conversion: 32\n",
            "Float conversion: 32.0\n",
            "Boolean conversion: False\n"
          ]
        }
      ]
    },
    {
      "cell_type": "code",
      "source": [
        "#Write code to demonstrate type casting with list elements.\n",
        "str_list = ['10', '20', '30', '40']\n",
        "print(\"Original list (strings):\", str_list)\n",
        "int_list = [int(item) for item in str_list]\n",
        "print(\"List after type casting to integers:\", int_list)\n",
        "float_list = [float(item) for item in int_list]\n",
        "print(\"List after type casting to floats:\", float_list)\n"
      ],
      "metadata": {
        "colab": {
          "base_uri": "https://localhost:8080/"
        },
        "id": "UxOg1oJZ9NAO",
        "outputId": "2fd21806-5df9-41c6-b0f2-fbbe92d56e2f"
      },
      "execution_count": 19,
      "outputs": [
        {
          "output_type": "stream",
          "name": "stdout",
          "text": [
            "Original list (strings): ['10', '20', '30', '40']\n",
            "List after type casting to integers: [10, 20, 30, 40]\n",
            "List after type casting to floats: [10.0, 20.0, 30.0, 40.0]\n"
          ]
        }
      ]
    },
    {
      "cell_type": "code",
      "source": [
        "# Write a program that checks if a number is positive, negative, or zero.\n",
        "num = float(input(\"Enter a number: \"))\n",
        "if num > 0:\n",
        "    print(\"The number is positive.\")\n",
        "elif num < 0:\n",
        "    print(\"The number is negative.\")\n",
        "else:\n",
        "    print(\"The number is zero.\")\n"
      ],
      "metadata": {
        "colab": {
          "base_uri": "https://localhost:8080/"
        },
        "id": "pKjuBB5G9m6h",
        "outputId": "14638226-e82d-4e0a-c68c-17d11326eb6f"
      },
      "execution_count": 20,
      "outputs": [
        {
          "output_type": "stream",
          "name": "stdout",
          "text": [
            "Enter a number: 12\n",
            "The number is positive.\n"
          ]
        }
      ]
    },
    {
      "cell_type": "code",
      "source": [
        "# Write a for loop to print numbers from 1 to 10.\n",
        "for num in range(1, 11):\n",
        "    print(num)\n"
      ],
      "metadata": {
        "colab": {
          "base_uri": "https://localhost:8080/"
        },
        "id": "wEjJDtxO9zSK",
        "outputId": "c0b4e6fd-efee-4bd2-fdcc-684d5f7d37fc"
      },
      "execution_count": 21,
      "outputs": [
        {
          "output_type": "stream",
          "name": "stdout",
          "text": [
            "1\n",
            "2\n",
            "3\n",
            "4\n",
            "5\n",
            "6\n",
            "7\n",
            "8\n",
            "9\n",
            "10\n"
          ]
        }
      ]
    },
    {
      "cell_type": "code",
      "source": [
        "#Write a Python program to find the sum of all even numbers between 1 and 50.\n",
        "total_sum = 0\n",
        "\n",
        "for num in range(2, 51, 2):\n",
        "    total_sum += num\n",
        "print(\"Sum of all even numbers between 1 and 50 is:\", total_sum)\n"
      ],
      "metadata": {
        "colab": {
          "base_uri": "https://localhost:8080/"
        },
        "id": "dRyCelKw98kD",
        "outputId": "294182fe-a9ce-4d36-cce5-f4a25d30e411"
      },
      "execution_count": 22,
      "outputs": [
        {
          "output_type": "stream",
          "name": "stdout",
          "text": [
            "Sum of all even numbers between 1 and 50 is: 650\n"
          ]
        }
      ]
    },
    {
      "cell_type": "code",
      "source": [
        "# Write a program to reverse a string using a while loop.\n",
        "original_str = input(\"Enter a string: \")\n",
        "\n",
        "reversed_str = \"\"\n",
        "index = len(original_str) - 1\n",
        "\n",
        "while index >= 0:\n",
        "    reversed_str += original_str[index]\n",
        "    index -= 1\n",
        "\n",
        "print(\"Reversed string:\", reversed_str)\n"
      ],
      "metadata": {
        "colab": {
          "base_uri": "https://localhost:8080/"
        },
        "id": "zCWNZmOc-h9z",
        "outputId": "ed3a99c0-4324-46f8-f9ce-5aba1b24d23a"
      },
      "execution_count": 28,
      "outputs": [
        {
          "output_type": "stream",
          "name": "stdout",
          "text": [
            "Enter a string: python\n",
            "Reversed string: nohtyp\n"
          ]
        }
      ]
    },
    {
      "cell_type": "code",
      "source": [
        "# Write a Python program to calculate the factorial of a number provided by the user using a while loop.\n",
        "num = int(input(\"Enter a non-negative integer: \"))\n",
        "\n",
        "if num < 0:\n",
        "    print(\"Factorial is not defined for negative numbers.\")\n",
        "else:\n",
        "    factorial = 1\n",
        "    temp = num\n",
        "\n",
        "    while temp > 1:\n",
        "        factorial *= temp\n",
        "        temp -= 1\n",
        "\n",
        "    print(f\"The factorial of {num} is {factorial}.\")\n"
      ],
      "metadata": {
        "colab": {
          "base_uri": "https://localhost:8080/"
        },
        "id": "Ft7Iuyf6-x6k",
        "outputId": "b47f62cc-64db-4d28-90ff-a94f90e28f7a"
      },
      "execution_count": 29,
      "outputs": [
        {
          "output_type": "stream",
          "name": "stdout",
          "text": [
            "Enter a non-negative integer: 11\n",
            "The factorial of 11 is 39916800.\n"
          ]
        }
      ]
    }
  ]
}